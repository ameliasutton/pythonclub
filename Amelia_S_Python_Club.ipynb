{
  "nbformat": 4,
  "nbformat_minor": 0,
  "metadata": {
    "colab": {
      "name": "Amelia S. - Python Club",
      "provenance": [],
      "collapsed_sections": [
        "mzsDH9i9mreo"
      ],
      "mount_file_id": "1-SFKCrz6ABB_UdzI5lkcYsURGOMAmO-h",
      "authorship_tag": "ABX9TyPCpmTaJ1lNCfj0QVZ8RLLm",
      "include_colab_link": true
    },
    "kernelspec": {
      "name": "python3",
      "display_name": "Python 3"
    }
  },
  "cells": [
    {
      "cell_type": "markdown",
      "metadata": {
        "id": "view-in-github",
        "colab_type": "text"
      },
      "source": [
        "<a href=\"https://colab.research.google.com/github/ameliasutton/pythonclub/blob/Newbranch2/Amelia_S_Python_Club.ipynb\" target=\"_parent\"><img src=\"https://colab.research.google.com/assets/colab-badge.svg\" alt=\"Open In Colab\"/></a>"
      ]
    },
    {
      "cell_type": "markdown",
      "metadata": {
        "id": "mzsDH9i9mreo"
      },
      "source": [
        "### __**Chapter 1**__"
      ]
    },
    {
      "cell_type": "markdown",
      "metadata": {
        "id": "9PwVzqzoOeRT"
      },
      "source": [
        "The code below will print ***hello world*** to the console"
      ]
    },
    {
      "cell_type": "code",
      "metadata": {
        "id": "rP_M8XfZz6EJ",
        "colab": {
          "base_uri": "https://localhost:8080/"
        },
        "outputId": "cc75f942-8015-4ad1-8bf1-f18362fa65a0"
      },
      "source": [
        "print ('hello world')"
      ],
      "execution_count": null,
      "outputs": [
        {
          "output_type": "stream",
          "text": [
            "hello world\n"
          ],
          "name": "stdout"
        }
      ]
    },
    {
      "cell_type": "markdown",
      "metadata": {
        "id": "p9OVczj7O5TN"
      },
      "source": [
        "The code below will read ***HelloWorld*** from the file *HelloWorld.txt* and print the file's contents to the console."
      ]
    },
    {
      "cell_type": "code",
      "metadata": {
        "colab": {
          "base_uri": "https://localhost:8080/"
        },
        "id": "q-7LK6yz5qQT",
        "outputId": "cf7c4638-0303-4d57-d7c2-14bcd3712178"
      },
      "source": [
        "import csv\r\n",
        "input_file = \"/content/drive/MyDrive/Python Club/HelloWorld.txt\"\r\n",
        "input = open(input_file, 'r')\r\n",
        "for line in input:\r\n",
        "  print(line)"
      ],
      "execution_count": null,
      "outputs": [
        {
          "output_type": "stream",
          "text": [
            "HelloWorld\n",
            "\n",
            "Line 2 text\n"
          ],
          "name": "stdout"
        }
      ]
    },
    {
      "cell_type": "markdown",
      "metadata": {
        "id": "Vnay8i2qvk2-"
      },
      "source": [
        "Testing Updating file on GitHub:\r\n",
        "\r\n",
        "https://github.com/ameliasutton/pythonclub\r\n",
        "\r\n",
        "\r\n"
      ]
    },
    {
      "cell_type": "code",
      "metadata": {
        "colab": {
          "base_uri": "https://localhost:8080/"
        },
        "id": "ajo9YZypvshw",
        "outputId": "d8430011-314b-4ab6-d29f-8b6b1768bb6c"
      },
      "source": [
        "print(\"different test\")"
      ],
      "execution_count": null,
      "outputs": [
        {
          "output_type": "stream",
          "text": [
            "different test\n"
          ],
          "name": "stdout"
        }
      ]
    },
    {
      "cell_type": "markdown",
      "metadata": {
        "id": "IWLnPuhDmeS7"
      },
      "source": [
        "### __**Chapter 2**__"
      ]
    },
    {
      "cell_type": "markdown",
      "metadata": {
        "id": "FLg_5sdf9M1y"
      },
      "source": [
        "Text"
      ]
    },
    {
      "cell_type": "markdown",
      "metadata": {
        "id": "g2620KpUmoNo"
      },
      "source": [
        "\r\n",
        "\r\n",
        "```\r\n",
        "# This is formatted as code\r\n",
        "```\r\n",
        "\r\n"
      ]
    }
  ]
}